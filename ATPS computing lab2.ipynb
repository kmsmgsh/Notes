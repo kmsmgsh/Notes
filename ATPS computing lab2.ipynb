{
 "cells": [
  {
   "cell_type": "code",
   "execution_count": 1,
   "metadata": {
    "collapsed": false
   },
   "outputs": [],
   "source": [
    "set.seed(10)\n",
    "n <- 100;n.b <- 10;n.beta <- 5\n",
    "## X and Z are fixed in the model, not random. Random numbers\n",
    "## used only to generate arbitrary examples, here....\n",
    "X <- cbind(1,matrix(runif(n*n.beta-n),n,n.beta-1))\n",
    "Z <- matrix(runif(n*n.b),n,n.b)\n",
    "beta <- rep(1,n.beta)\n",
    "b <- rnorm(n.b)\n",
    "y <- X%*%beta + Z%*%b + rnorm(n)"
   ]
  },
  {
   "cell_type": "code",
   "execution_count": 2,
   "metadata": {
    "collapsed": true
   },
   "outputs": [],
   "source": [
    "logLik <- function(theta,y,X,Z) {\n",
    "## somewhat plodding linear mixed model log\n",
    "## likelihood with theta partitioned\n",
    "## [beta,sig2.b,sig2]\n",
    "n <- length(y)\n",
    "beta <- theta[1:ncol(X)]\n",
    "theta <- theta[-(1:ncol(X))]\n",
    "V <- diag(n)*theta[2] + Z %*% t(Z)*theta[1]\n",
    "R <- chol(V)\n",
    "z <- forwardsolve(t(R), y-X %*% beta)\n",
    "ll <- -n*log(2*pi)/2 - sum(log(diag(R))) - sum(z*z)/2\n",
    "ll\n",
    "}"
   ]
  },
  {
   "cell_type": "markdown",
   "metadata": {},
   "source": [
    "Modify to $\\sigma^2$ into $log(\\sigma)$"
   ]
  },
  {
   "cell_type": "code",
   "execution_count": 4,
   "metadata": {
    "collapsed": true
   },
   "outputs": [],
   "source": [
    "logLik <- function(theta,y,X,Z) {\n",
    "## somewhat plodding linear mixed model log\n",
    "## likelihood with theta partitioned\n",
    "## [beta,sig2.b,sig2]\n",
    "n <- length(y)\n",
    "beta <- theta[1:ncol(X)]\n",
    "theta <- theta[-(1:ncol(X))]\n",
    "V <- diag(n)*exp(theta[2]*2) + Z %*% t(Z)*exp(theta[1]*2)\n",
    "R <- chol(V)\n",
    "z <- forwardsolve(t(R), y-X %*% beta)\n",
    "ll <- -n*log(2*pi)/2 - sum(log(diag(R))) - sum(z*z)/2\n",
    "ll\n",
    "}"
   ]
  },
  {
   "cell_type": "code",
   "execution_count": 7,
   "metadata": {
    "collapsed": true
   },
   "outputs": [],
   "source": [
    "?optim"
   ]
  },
  {
   "cell_type": "code",
   "execution_count": 22,
   "metadata": {
    "collapsed": false
   },
   "outputs": [
    {
     "data": {
      "text/html": [
       "-143.271152636849"
      ],
      "text/latex": [
       "-143.271152636849"
      ],
      "text/markdown": [
       "-143.271152636849"
      ],
      "text/plain": [
       "[1] -143.2712"
      ]
     },
     "metadata": {},
     "output_type": "display_data"
    },
    {
     "data": {
      "text/html": [
       "<ol class=list-inline>\n",
       "\t<li>-0.785252292919743</li>\n",
       "\t<li>1.26234051442215</li>\n",
       "\t<li>1.37798218204284</li>\n",
       "\t<li>1.21289664731167</li>\n",
       "\t<li>1.66304132626749</li>\n",
       "\t<li>-0.470145050758197</li>\n",
       "\t<li>-0.0800646542578691</li>\n",
       "</ol>\n"
      ],
      "text/latex": [
       "\\begin{enumerate*}\n",
       "\\item -0.785252292919743\n",
       "\\item 1.26234051442215\n",
       "\\item 1.37798218204284\n",
       "\\item 1.21289664731167\n",
       "\\item 1.66304132626749\n",
       "\\item -0.470145050758197\n",
       "\\item -0.0800646542578691\n",
       "\\end{enumerate*}\n"
      ],
      "text/markdown": [
       "1. -0.785252292919743\n",
       "2. 1.26234051442215\n",
       "3. 1.37798218204284\n",
       "4. 1.21289664731167\n",
       "5. 1.66304132626749\n",
       "6. -0.470145050758197\n",
       "7. -0.0800646542578691\n",
       "\n",
       "\n"
      ],
      "text/plain": [
       "[1] -0.78525229  1.26234051  1.37798218  1.21289665  1.66304133 -0.47014505\n",
       "[7] -0.08006465"
      ]
     },
     "metadata": {},
     "output_type": "display_data"
    }
   ],
   "source": [
    "theta.start <- c(beta,0,0)\n",
    "fit <- optim(theta.start, logLik, method=\"BFGS\", y=y, X=X, Z=Z,\n",
    "control=list(fnscale=-1))\n",
    "logLik(fit$par,y,X,Z)\n",
    "fit$par"
   ]
  },
  {
   "cell_type": "code",
   "execution_count": null,
   "metadata": {
    "collapsed": true
   },
   "outputs": [],
   "source": []
  }
 ],
 "metadata": {
  "kernelspec": {
   "display_name": "R",
   "language": "R",
   "name": "ir"
  },
  "language_info": {
   "codemirror_mode": "r",
   "file_extension": ".r",
   "mimetype": "text/x-r-source",
   "name": "R",
   "pygments_lexer": "r",
   "version": "3.4.1"
  }
 },
 "nbformat": 4,
 "nbformat_minor": 2
}
